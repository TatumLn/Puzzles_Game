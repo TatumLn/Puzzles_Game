{
  "nbformat": 4,
  "nbformat_minor": 0,
  "metadata": {
    "colab": {
      "provenance": []
    },
    "kernelspec": {
      "name": "python3",
      "display_name": "Python 3"
    },
    "language_info": {
      "name": "python"
    }
  },
  "cells": [
    {
      "cell_type": "markdown",
      "source": [],
      "metadata": {
        "id": "OT_XX14KLafw"
      }
    },
    {
      "cell_type": "markdown",
      "source": [
        "Instructions\n",
        "\n",
        "Travail individuel à réaliser par chaque étudiant. Chaque fichier devra ensuite être rassemblé par groupe dans le premier dépôt Git de l'année universitaire, dans un nouveau dossier nommé Computer Vision.\n",
        "\n",
        "Le nom du fichier doit être le prénom de l'étudiant écrit en minuscules. Par exemple, si l'étudiant s'appelle BOB Toto, le fichier doit être nommé toto.ipynb.\n",
        "\n",
        "\n",
        "Détails de l'étudiant\n",
        "\n",
        "Nom(s)  : HARITIANA\n",
        "\n",
        "Prénom(s) : Nomenjanahary\n",
        "\n",
        "Classe : IGGLIA 4\n",
        "\n",
        "**Vision par Ordinateur avec Keras/TensorFlow : Un Notebook Pratique et Conceptuel**\n",
        "\n",
        "Ce notebook a pour objectif de vous guider pas à pas dans la création et l'analyse d'un modèle de réseau de neurones convolutif (CNN) appliqué au jeu de données CIFAR-10. Chaque étape est accompagnée d'explications pratiques ainsi que de questions conceptuelles pour renforcer votre compréhension des enjeux théoriques et pratiques de la vision par ordinateur.\n",
        "\n",
        "**Étape 1 : Introduction et Configuration de l'Environnement**\n",
        "\n",
        "Dans cette étape, nous allons configurer notre environnement de travail et importer les bibliothèques indispensables pour le deep learning et la manipulation de données. Nous vérifions également la version de TensorFlow pour nous assurer que tout fonctionne correctement.\n",
        "Explication Pratique\n",
        "\n",
        "La bonne configuration de l'environnement est cruciale pour garantir la reproductibilité et la stabilité de vos expériences. En particulier, les versions des bibliothèques peuvent influencer le comportement du modèle et sa performance, d'où l'importance de vérifier et documenter ces versions dès le début.\n",
        "\n"
      ],
      "metadata": {
        "id": "Qs-MS5qyLchX"
      }
    },
    {
      "cell_type": "code",
      "source": [
        "# Importer les bibliothèques nécessaires\n",
        "import tensorflow as tf\n",
        "from tensorflow import keras\n",
        "from tensorflow.keras import layers, models\n",
        "import numpy as np\n",
        "import matplotlib.pyplot as plt\n",
        "\n",
        "print('Version de TensorFlow :', tf.__version__)"
      ],
      "metadata": {
        "id": "460WggujMidM"
      },
      "execution_count": null,
      "outputs": []
    },
    {
      "cell_type": "markdown",
      "source": [
        "**Question 1**\n",
        "\n",
        "Q1 : Pourquoi est-il essentiel de vérifier la configuration de l'environnement (versions des bibliothèques, dépendances, etc.) avant de développer un modèle de deep learning ?\n",
        "\n",
        "Répondez dans une nouvelle cellule Markdown.\n",
        "\n",
        "**Reponse 1:**\n",
        "\n",
        "Pour garantir la reproductibilité et la stabilité de nos expériences, il faut toujour vérifier la configuration de l'environnement . Les versions des bibliothèques sont les plus sensible car ils peuvent influencer le comportement du modèle et sa performance, d'où l'importance de vérifier et documenter ces versions dès le début.\n",
        "\n",
        "**Étape 2 : Chargement et Prétraitement des Données**\n",
        "\n",
        "Nous allons charger le jeu de données CIFAR-10, composé de 60 000 images couleur réparties en 10 classes. Dans cette étape, nous normalisons les valeurs des pixels afin qu'elles soient comprises entre 0 et 1, et nous transformons les étiquettes en format one-hot pour faciliter le processus de classification.\n",
        "Explication Pratique\n",
        "\n",
        "La normalisation aide à stabiliser et accélérer l'entraînement du modèle en assurant que les valeurs d'entrée ont une échelle comparable. Le one-hot encoding évite que le modèle interprète les étiquettes comme des valeurs numériques ordonnées, ce qui est essentiel pour les problèmes de classification multi-classes.\n",
        "\n"
      ],
      "metadata": {
        "id": "kBz9CapsM8ke"
      }
    },
    {
      "cell_type": "code",
      "source": [
        "# Charger le jeu de données CIFAR-10\n",
        "(x_train, y_train), (x_test, y_test) = keras.datasets.cifar10.load_data()\n",
        "\n",
        "# Normaliser les valeurs des pixels (entre 0 et 1)\n",
        "x_train = x_train.astype('float32') / 255.0\n",
        "x_test = x_test.astype('float32') / 255.0\n",
        "\n",
        "# Convertir les vecteurs de classes en matrices binaires (one-hot encoding)\n",
        "num_classes = 10\n",
        "y_train = keras.utils.to_categorical(y_train, num_classes)\n",
        "y_test = keras.utils.to_categorical(y_test, num_classes)\n",
        "\n",
        "print(\"Forme des données d'entrainement :\", x_train.shape)\n",
        "print(\"Forme des étiquettes d'entraînement :\", y_train.shape)"
      ],
      "metadata": {
        "id": "0bZzakrvNTy8"
      },
      "execution_count": null,
      "outputs": []
    },
    {
      "cell_type": "markdown",
      "source": [
        "Question 2\n",
        "\n",
        "Q2 : Expliquez comment la normalisation des pixels et le one-hot encoding des étiquettes contribuent chacun à la stabilité et à l'efficacité de l'entraînement d'un modèle de deep learning.\n",
        "\n",
        "Répondez dans une nouvelle cellule Markdown.\n",
        "Reponse 2:\n",
        "\n",
        "La normalisation des pixels et le one-hot encoding des étiquettes aident chacun à mieux entraîner un modèle de deep learning, mais de façons différentes :\n",
        "\n",
        "    Normalisation des pixels\n",
        "        Problème résolu : Les pixels d'une image ont souvent des valeurs très différentes (ex : entre 0 et 255).\n",
        "        Solution : On les ramène à une même échelle (ex : entre 0 et 1).\n",
        "        Bénéfices :\n",
        "            Le modèle apprend plus vite.\n",
        "            Évite les calculs instables qui bloquent l'apprentissage.\n",
        "\n",
        "    One-hot encoding des étiquettes\n",
        "        Problème résolu : Dans un problème de classification (ex : reconnaître des chiffres), les classes (0, 1, 2...) ne sont pas des nombres ordinaires.\n",
        "        Solution : On transforme chaque classe en un vecteur de 0 et 1 (ex : classe \"2\" → [0, 0, 1, 0, 0...]).\n",
        "        Bénéfices :\n",
        "            Le modèle comprend qu'il n'y a pas d'ordre entre les classes.\n",
        "            La fonction de perte (qui mesure les erreurs) fonctionne correctement.\n",
        "\n",
        "Résultat final :\n",
        "\n",
        "    Le modèle converge plus vite (car les données sont bien organisées).\n",
        "    Les prédictions sont plus précises (car les étiquettes sont bien interprétées).\n",
        "\n",
        "Exemple :\n",
        "\n",
        "    Sans normalisation, une image sombre (pixels ~0) et une image claire (pixels ~255) seraient traitées différemment, ce qui perturberait l'apprentissage.\n",
        "    Sans one-hot, le modèle pourrait croire que \"chien\" (classe 1) est plus proche de \"chat\" (classe 2) que de \"voiture\" (classe 10), alors que ce n'est pas le cas.\n",
        "\n",
        "En résumé : ces deux étapes préparent les données pour que le modèle apprenne de manière optimale.\n",
        "\n",
        "**Étape 3 : Exploration et Visualisation des Données**\n",
        "\n",
        "Avant de construire le modèle, il est important d'explorer et de visualiser les données. Nous affichons ainsi un échantillon d'images du jeu de données pour mieux comprendre leur contenu et la distribution des classes.\n",
        "Explication Pratique\n",
        "\n",
        "La visualisation des données permet d'identifier d'éventuelles anomalies, comme des classes sous-représentées ou des images bruitées, et de décider si des techniques d'augmentation de données ou de prétraitement supplémentaires sont nécessaires.\n"
      ],
      "metadata": {
        "id": "0WJLJdR3NbNj"
      }
    },
    {
      "cell_type": "code",
      "source": [
        "# Afficher quelques images du jeu de données d'entraînement\n",
        "noms_classes = ['avion', 'automobile', 'oiseau', 'chat', 'cerf',\n",
        "               'chien', 'grenouille', 'cheval', 'navire', 'camion']\n",
        "\n",
        "plt.figure(figsize=(10,10))\n",
        "for i in range(25):\n",
        "    plt.subplot(5,5,i+1)\n",
        "    plt.xticks([])\n",
        "    plt.yticks([])\n",
        "    plt.grid(False)\n",
        "    plt.imshow(x_train[i])\n",
        "    plt.xlabel(noms_classes[y_train[i].argmax()])\n",
        "plt.show()"
      ],
      "metadata": {
        "id": "8jetuY0RNqwN"
      },
      "execution_count": null,
      "outputs": []
    },
    {
      "cell_type": "markdown",
      "source": [
        "Q3 : D'après la visualisation, discutez de l'impact potentiel d'une distribution inégale des classes ou de la présence d'images de mauvaise qualité sur la performance d'un modèle de classification. Quelles stratégies pourraient être mises en place pour pallier ces problèmes ?\n",
        "\n",
        "Répondez dans une nouvelle cellule Markdown.\n",
        "reponse 3\n",
        "\n",
        "Les impact potentiel d'une distribution inégale des classes ou de la présence d'images de mauvaise qualité sur la performance d'un modèle de classification sont :\n",
        "\n",
        "    Distribution inégale des classes\n",
        "    Images de mauvaise qualité\n",
        "\n",
        "solution :\n",
        "\n",
        "    Rééquilibrage :\n",
        "\n",
        "    Sur-échantillonnage : Dupliquer/réutiliser les images des classes rares\n",
        "\n",
        "    Sous-échantillonnage : Réduire aléatoirement les classes trop nombreuses.\n",
        "\n",
        "    Pénalités : Donner plus de \"poids\" aux erreurs sur les classes rares pendant l'entraînement.\n",
        "\n",
        "    Prétraitement :\n",
        "\n",
        "    Nettoyage : Filtres pour atténuer le flou, correction de la luminosité.\n",
        "\n",
        "    Normalisation : Harmoniser toutes les images (taille, contraste).\n",
        "\n",
        "    Augmentation de données : Générer des versions légèrement modifiées (rotation, miroir) pour diversifier l'apprentissage.\n",
        "\n",
        "**Étape 4 : Construction du Modèle CNN**\n",
        "\n",
        "Nous allons construire un réseau de neurones convolutif (CNN) pour extraire des caractéristiques hiérarchiques des images. Ce modèle se compose de plusieurs blocs de convolution suivis de couches de pooling et se termine par des couches entièrement connectées pour la classification.\n",
        "Explication Pratique\n",
        "\n",
        "Les couches de convolution permettent au modèle de détecter des motifs locaux (comme les contours ou les textures), tandis que les couches de pooling réduisent la dimensionnalité, ce qui diminue la charge computationnelle et aide à rendre le modèle plus robuste aux translations. Le dropout, quant à lui, est une technique de régularisation qui aide à prévenir le surapprentissage en désactivant aléatoirement certains neurones pendant l'entraînement.\n"
      ],
      "metadata": {
        "id": "Nr_7Yp3_NzJ7"
      }
    },
    {
      "cell_type": "code",
      "source": [
        "# Construire le modèle CNN\n",
        "model = models.Sequential()\n",
        "\n",
        "# Bloc de convolution 1 : 32 filtres, taille 3x3, activation ReLU\n",
        "model.add(layers.Conv2D(32, (3, 3), activation='relu', input_shape=x_train.shape[1:]))\n",
        "model.add(layers.MaxPooling2D((2, 2)))\n",
        "\n",
        "# Bloc de convolution 2 : 64 filtres\n",
        "model.add(layers.Conv2D(64, (3, 3), activation='relu'))\n",
        "model.add(layers.MaxPooling2D((2, 2)))\n",
        "\n",
        "# Bloc de convolution 3 : 64 filtres\n",
        "model.add(layers.Conv2D(64, (3, 3), activation='relu'))\n",
        "\n",
        "# Aplatir les sorties et ajouter des couches entièrement connectées\n",
        "model.add(layers.Flatten())\n",
        "model.add(layers.Dense(64, activation='relu'))\n",
        "model.add(layers.Dropout(0.5))\n",
        "model.add(layers.Dense(num_classes, activation='softmax'))\n",
        "\n",
        "model.summary()"
      ],
      "metadata": {
        "id": "GpTJrcpyN9w_"
      },
      "execution_count": null,
      "outputs": []
    },
    {
      "cell_type": "markdown",
      "source": [
        "Question 4\n",
        "\n",
        "Q4 : Décrivez le rôle de chaque composant du CNN (couches de convolution, pooling et dropout) et expliquez comment ils interagissent pour permettre au modèle d'extraire des caractéristiques pertinentes des images.\n",
        "\n",
        "Répondez dans une nouvelle cellule Markdown.\n",
        "reponse 4\n",
        "\n",
        "    Les couches de convolution : permettent au modèle de détecter des motifs locaux (comme les contours ou les textures).\n",
        "    les couches de pooling: réduisent la dimensionnalité, ce qui diminue la charge computationnelle et aide à rendre le modèle plus robuste aux translations.\n",
        "    Le dropout, quant à lui, est une technique de régularisation qui aide à prévenir le surapprentissage en désactivant aléatoirement certains neurones pendant l'entraînement.\n",
        "\n",
        "Ils interagissent\n",
        "\n",
        "    Convolution : Détecte localement les motifs (bords, textures).\n",
        "\n",
        "    Pooling : Réduit la taille et garde l'essentiel, boostant l'efficacité.\n",
        "\n",
        "    Dropout : Désactive aléatoirement des neurones pour éviter la sur-mémorisation.\n",
        "\n",
        "**Étape 5 : Compilation et Entraînement du Modèle**\n",
        "\n",
        "Nous allons maintenant compiler le modèle en choisissant un optimiseur, une fonction de perte ainsi que des métriques d'évaluation. Ensuite, nous entraînons le modèle sur les données d'entraînement en réservant une partie des données pour la validation.\n",
        "Explication Pratique\n",
        "\n",
        "La compilation configure le processus d'apprentissage, notamment la manière dont les poids seront ajustés via la rétropropagation. Le choix de l'optimiseur (ici, Adam) et la définition des hyperparamètres (comme le taux d'apprentissage et la taille du batch) influencent grandement la vitesse de convergence et la qualité finale du modèle.\n"
      ],
      "metadata": {
        "id": "FM3im_f1OHIS"
      }
    },
    {
      "cell_type": "code",
      "source": [
        "# Compiler le modèle\n",
        "model.compile(optimizer='adam',\n",
        "              loss='categorical_crossentropy',\n",
        "              metrics=['accuracy'])\n",
        "\n",
        "# Entraîner le modèle\n",
        "history = model.fit(x_train, y_train, epochs=10, batch_size=64,\n",
        "                    validation_split=0.2)"
      ],
      "metadata": {
        "id": "cT5F6_WVOP5e"
      },
      "execution_count": null,
      "outputs": []
    },
    {
      "cell_type": "markdown",
      "source": [
        "Question 5\n",
        "\n",
        "Q5 : Quels sont les effets d'un choix inadapté d'hyperparamètres (comme le taux d'apprentissage ou la taille du batch) sur l'entraînement d'un réseau de neurones ? Expliquez en quoi un optimiseur bien configuré est crucial pour la convergence du modèle.\n",
        "\n",
        "Répondez dans une nouvelle cellule Markdown.\n",
        "reponse 5:\n",
        "\n",
        "    Taux d'apprentissage trop élevé : Le modèle diverge (les poids explosent au lieu de converger).\n",
        "\n",
        "    Taux d'apprentissage trop faible : L'entraînement est lent et peut rester coincé dans des minima locaux.\n",
        "\n",
        "    Batch trop petit : Les updates sont bruyantes, rendant la convergence instable.\n",
        "\n",
        "    Batch trop grand : Ralentit l'entraînement et peut généraliser moins bien.\n",
        "\n",
        "Optimiseur bien réglé : Accélère la convergence et évite les pièges (minima locaux, oscillations).\n",
        "\n",
        "**Étape 6 : Évaluation du Modèle **\n",
        "\n",
        "Après l'entraînement, nous évaluons notre modèle sur le jeu de test afin de mesurer sa capacité de généralisation sur des données inédites. Les métriques telles que la perte et la précision nous aident à quantifier la performance globale du modèle.\n",
        "Explication Pratique\n",
        "\n",
        "L'évaluation sur un jeu de test indépendant permet de détecter un éventuel surapprentissage (overfitting). Si le modèle présente une bonne performance sur l'entraînement mais une performance médiocre sur le test, cela indique qu'il n'a pas suffisamment généralisé, ce qui peut nécessiter des ajustements comme plus de régularisation ou des techniques d'augmentation de données.\n"
      ],
      "metadata": {
        "id": "lX8hGPOtOWrU"
      }
    },
    {
      "cell_type": "code",
      "source": [
        "# Évaluer le modèle sur le jeu de test\n",
        "test_loss, test_acc = model.evaluate(x_test, y_test, verbose=2)\n",
        "print('Précision sur le jeu de test :', test_acc)"
      ],
      "metadata": {
        "id": "2tQ-2ULeOi0X"
      },
      "execution_count": null,
      "outputs": []
    },
    {
      "cell_type": "markdown",
      "source": [
        "Question 6\n",
        "\n",
        "Q6 : Que nous indiquent la perte et la précision obtenues lors de l'évaluation sur le jeu de test ? Quels ajustements pourriez-vous envisager si vous observez un écart significatif entre les performances sur l'entraînement et le test ?\n",
        "\n",
        "Répondez dans une nouvelle cellule Markdown.\n",
        "reponse 6\n",
        "\n",
        "La perte et la précision obtenues lors de l'évaluation sur le jeu de test indique\n",
        "\n",
        "Perte : Mesure l'erreur du modèle (plus c'est bas, mieux c'est). Précision : Pourcentage de bonnes prédictions sur les données inconnues.\n",
        "\n",
        "    Perte faible + haute précision : Modèle performant et généralisable.\n",
        "\n",
        "    Perte élevée + faible précision : Modèle inefficace (sous-apprentissage).\n",
        "\n",
        "    Perte faible mais précision médiocre : Surapprentissage (mémorise les données d'entraînement).\n",
        "\n",
        "si on observe un écart significatif entre les performances sur l'entraînement et le test, il faut:\n",
        "\n",
        "    Lutter contre le surapprentissage :\n",
        "\n",
        "    Ajouter du dropout ou de la régularisation L2\n",
        "\n",
        "    Augmenter le jeu d'entraînement (data augmentation)\n",
        "\n",
        "    Améliorer la généralisation :\n",
        "\n",
        "    Réduire la complexité du modèle (moins de couches/neurones)\n",
        "\n",
        "    Normaliser les données\n",
        "\n",
        "    Optimiser l'entraînement :\n",
        "\n",
        "    Ajuster le learning rate ou l'optimiseur\n",
        "\n",
        "    Utiliser un early stopping\n",
        "\n",
        "Étape 7 : Prédictions et Visualisation des Résultats\n",
        "\n",
        "Nous allons utiliser le modèle entraîné pour prédire les classes des images du jeu de test. La visualisation des résultats nous permet de comparer les étiquettes prédites aux étiquettes réelles et d'identifier les erreurs potentielles.\n",
        "Explication Pratique\n",
        "\n",
        "La visualisation aide à comprendre qualitativement comment le modèle se comporte face à différentes images. Cela permet d'identifier si certaines classes sont systématiquement mal prédites ou si le modèle confond certaines catégories, ouvrant ainsi la voie à des améliorations ultérieures (par exemple, via l'augmentation de données ou des ajustements de l'architecture).\n"
      ],
      "metadata": {
        "id": "LYAmD53fOnlz"
      }
    },
    {
      "cell_type": "code",
      "source": [
        "Faire des prédictions sur le jeu de test\n",
        "predictions = model.predict(x_test)\n",
        "\n",
        "# Fonction pour afficher l'image avec les étiquettes prédites et réelles\n",
        "def afficher_image(i, predictions_array, etiquette_vraie, img):\n",
        "    plt.grid(False)\n",
        "    plt.xticks([])\n",
        "    plt.yticks([])\n",
        "    plt.imshow(img, cmap=plt.cm.binary)\n",
        "\n",
        "    etiquette_predite = np.argmax(predictions_array)\n",
        "    etiquette_vraie = np.argmax(etiquette_vraie)\n",
        "\n",
        "    couleur = 'blue' if etiquette_predite == etiquette_vraie else 'red'\n",
        "    plt.xlabel(f\"Prédit : {noms_classes[etiquette_predite]} (Vrai : {noms_classes[etiquette_vraie]})\", color=couleur)\n",
        "\n",
        "# Afficher quelques images de test avec leurs prédictions\n",
        "nb_lignes = 5\n",
        "nb_colonnes = 3\n",
        "nb_images = nb_lignes * nb_colonnes\n",
        "plt.figure(figsize=(2 * nb_colonnes, 2 * nb_lignes))\n",
        "for i in range(nb_images):\n",
        "    plt.subplot(nb_lignes, nb_colonnes, i+1)\n",
        "    afficher_image(i, predictions[i], y_test[i], x_test[i])\n",
        "plt.tight_layout()\n",
        "plt.show()"
      ],
      "metadata": {
        "id": "6mK8wFouOshh"
      },
      "execution_count": null,
      "outputs": []
    },
    {
      "cell_type": "markdown",
      "source": [
        "Question 7\n",
        "\n",
        "Q7 : Après avoir examiné les prédictions, identifiez et discutez des stratégies conceptuelles (par exemple, l'augmentation de données, le raffinement de l'architecture ou l'ajustement des hyperparamètres) qui pourraient améliorer la robustesse et la précision du modèle.\n",
        "\n",
        "Répondez dans une nouvelle cellule Markdown.\n",
        "reponse 7\n",
        "\n",
        "    Augmentation des données : Varier les images (rotations, zooms) pour éviter le surapprentissage.\n",
        "\n",
        "    Optimisation de l’architecture : Ajouter/supprimer des couches (ex : plus de convolutions pour mieux capter les motifs).\n",
        "\n",
        "    Réglage des hyperparamètres : Ajuster le learning rate, la taille du batch ou l’optimiseur (ex : passer à AdamW).\n",
        "\n",
        "    Régularisation : Utiliser dropout ou weight decay pour améliorer la généralisation.\n",
        "\n",
        "    Fine-tuning : Réutiliser un modèle pré-entraîné (ex : ResNet) et l’adapter.\n",
        "\n",
        "Étape 8 : Conclusion et Travaux Futurs\n",
        "\n",
        "Dans ce notebook, nous avons :\n",
        "\n",
        "    Configuré l'environnement et importé les bibliothèques nécessaires\n",
        "    Chargé et prétraité le jeu de données CIFAR-10\n",
        "    Exploré et visualisé les données\n",
        "    Construit, compilé et entraîné un modèle CNN\n",
        "    Évalué le modèle et visualisé ses prédictions\n",
        "\n",
        "Explication Pratique\n",
        "\n",
        "Ce pipeline offre une approche complète, à la fois pratique et conceptuelle, pour la mise en œuvre d'un modèle de vision par ordinateur. Pour aller plus loin, vous pouvez explorer des architectures plus complexes, appliquer des techniques d'augmentation de données ou encore expérimenter avec différents optimisateurs afin de mieux comprendre l'impact de chacun sur la performance du modèle.\n",
        "\n",
        "Conclusion en 3 points :\n",
        "\n",
        "Pipeline complet : Environnement → Données (CIFAR-10) → CNN → Évaluation.\n",
        "\n",
        "Résultats : Modèle opérationnel avec visualisation des prédictions.\n",
        "\n",
        "Améliorations possibles :\n",
        "\n",
        "Architectures avancées (ex : ResNet)\n",
        "\n",
        "Augmentation de données\n",
        "\n",
        "Tests d'optimiseurs\n"
      ],
      "metadata": {
        "id": "PUa3n26VOxs_"
      }
    },
    {
      "cell_type": "markdown",
      "source": [],
      "metadata": {
        "id": "OxnZ0vZfLxn6"
      }
    }
  ]
}