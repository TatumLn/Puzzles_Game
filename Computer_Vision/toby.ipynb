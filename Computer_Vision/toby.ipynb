{
 "cells": [
  {
   "cell_type": "markdown",
   "id": "a8E7De68YVps",
   "metadata": {},
   "source": [
    "# Instructions\n",
    "\n",
    "Travail individuel à réaliser par chaque étudiant. Chaque fichier devra ensuite être rassemblé par groupe dans le premier dépôt Git de l'année universitaire, dans un nouveau dossier nommé <code>Computer Vision</code>."
   ]
  },
  {
   "cell_type": "markdown",
   "id": "K6EHkj63XsUy",
   "metadata": {},
   "source": [
    "# Détails de l'étudiant\n",
    "### Nom(s)  : RABETAHAFINA\n",
    "### Prénom(s) : Vahatraina Tobim-Pitiavana Andriamanarivo\n",
    "### Classe : IGGLIA 4 N.21"
   ]
  },
  {
   "cell_type": "markdown",
   "id": "intro",
   "metadata": {},
   "source": [
    "# Vision par Ordinateur avec Keras/TensorFlow"
   ]
  },
  {
   "cell_type": "markdown",
   "id": "question1",
   "metadata": {},
   "source": [
    "### Question 1\n",
    "\n",
    "**Q1 :** Pourquoi est-il essentiel de vérifier la configuration de l'environnement (versions des bibliothèques, dépendances, etc.) avant de développer un modèle de deep learning ?\n",
    "\n",
    "**Réponse :**\n",
    "\n",
    "La vérification des versions des bibliothèques est cruciale car :\n",
    "1. Différentes versions peuvent avoir des APIs incompatibles\n",
    "2. Les performances et les résultats peuvent varier selon les versions\n",
    "3. Cela assure la reproductibilité des expériences\n",
    "4. Certaines fonctionnalités peuvent être dépréciées dans les nouvelles versions"
   ]
  },
  {
   "cell_type": "markdown",
   "id": "question2",
   "metadata": {},
   "source": [
    "### Question 2\n",
    "\n",
    "**Q2 :** Expliquez comment la normalisation des pixels et le one-hot encoding des étiquettes contribuent chacun à la stabilité et à l'efficacité de l'entraînement d'un modèle de deep learning.\n",
    "\n",
    "**Réponse :**\n",
    "\n",
    "- **Normalisation** : \n",
    "  - Stabilise l'entraînement en mettant toutes les features à la même échelle\n",
    "  - Accélère la convergence en évitant des gradients trop grands ou petits\n",
    "  - Généralement entre 0-1 ou -1-1 pour les valeurs de pixels\n",
    "  \n",
    "- **One-hot encoding** :\n",
    "  - Évite que le modèle interprète les classes comme ordonnées\n",
    "  - Convient mieux pour la cross-entropy utilisée en classification\n",
    "  - Représentation plus explicite pour la couche de sortie softmax"
   ]
  },
  {
   "cell_type": "markdown",
   "id": "question3",
   "metadata": {},
   "source": [
    "### Question 3\n",
    "\n",
    "**Q3 :** D'après la visualisation, discutez de l'impact potentiel d'une distribution inégale des classes ou de la présence d'images de mauvaise qualité sur la performance d'un modèle de classification. Quelles stratégies pourraient être mises en place pour pallier ces problèmes ?\n",
    "\n",
    "**Réponse :**\n",
    "\n",
    "Problèmes potentiels :\n",
    "- Biais vers les classes majoritaires\n",
    "- Mauvaise généralisation pour les classes rares\n",
    "\n",
    "Solutions :\n",
    "- Rééchantillonnage (oversampling/undersampling)\n",
    "- Augmentation de données ciblée\n",
    "- Pénalités de loss pour les classes rares\n",
    "- Nettoyage des images de mauvaise qualité"
   ]
  },
  {
   "cell_type": "markdown",
   "id": "question4",
   "metadata": {},
   "source": [
    "### Question 4\n",
    "\n",
    "**Q4 :** Décrivez le rôle de chaque composant du CNN (couches de convolution, pooling et dropout) et expliquez comment ils interagissent pour permettre au modèle d'extraire des caractéristiques pertinentes des images.\n",
    "\n",
    "**Réponse :**\n",
    "\n",
    "- **Couches de convolution** : \n",
    "  - Détectent des motifs locaux (bords, textures)\n",
    "  - Apprennent des features hiérarchiques\n",
    "  - Préservent les relations spatiales\n",
    "  \n",
    "- **Pooling** :\n",
    "  - Réduction de dimensionnalité\n",
    "  - Invariance à de petites translations\n",
    "  - Diminue le coût computationnel\n",
    "  \n",
    "- **Dropout** :\n",
    "  - Régularisation contre l'overfitting\n",
    "  - Force le réseau à apprendre des features robustes\n",
    "  - Désactive aléatoirement des neurones"
   ]
  },
  {
   "cell_type": "markdown",
   "id": "question5",
   "metadata": {},
   "source": [
    "### Question 5\n",
    "\n",
    "**Q5 :** Quels sont les effets d'un choix inadapté d'hyperparamètres (comme le taux d'apprentissage ou la taille du batch) sur l'entraînement d'un réseau de neurones ? Expliquez en quoi un optimiseur bien configuré est crucial pour la convergence du modèle.\n",
    "\n",
    "**Réponse :**\n",
    "\n",
    "Effets des mauvais hyperparamètres :\n",
    "- Taux d'apprentissage trop élevé : oscillations, divergence\n",
    "- Taux trop bas : convergence lente, stagnation\n",
    "- Batch size trop petit : bruit dans les gradients\n",
    "- Batch size trop grand : mémoire insuffisante\n",
    "\n",
    "Importance de l'optimiseur :\n",
    "- Adam adapte le taux d'apprentissage par paramètre\n",
    "- Gère bien les plateaux et les saddle points\n",
    "- Combinaison de momentum et RMSprop"
   ]
  },
  {
   "cell_type": "markdown",
   "id": "question6",
   "metadata": {},
   "source": [
    "### Question 6\n",
    "\n",
    "**Q6 :** Que nous indiquent la perte et la précision obtenues lors de l'évaluation sur le jeu de test ? Quels ajustements pourriez-vous envisager si vous observez un écart significatif entre les performances sur l'entraînement et le test ?\n",
    "\n",
    "**Réponse :**\n",
    "\n",
    "Interprétation :\n",
    "- Grande différence train/test = overfitting\n",
    "- Faibles performances sur les deux = underfitting\n",
    "\n",
    "Ajustements possibles :\n",
    "- Plus de régularisation (dropout, L2)\n",
    "- Augmentation de données\n",
    "- Architecture plus profonde/complexe\n",
    "- Fine-tuning des hyperparamètres"
   ]
  },
  {
   "cell_type": "markdown",
   "id": "question7",
   "metadata": {},
   "source": [
    "### Question 7\n",
    "\n",
    "**Q7 :** Après avoir examiné les prédictions, identifiez et discutez des stratégies conceptuelles (par exemple, l'augmentation de données, le raffinement de l'architecture ou l'ajustement des hyperparamètres) qui pourraient améliorer la robustesse et la précision du modèle.\n",
    "\n",
    "**Réponse :**\n",
    "\n",
    "1. **Augmentation de données** :\n",
    "   - Rotations, translations, miroir\n",
    "   - Modifications de couleur/contraste\n",
    "\n",
    "2. **Architecture** :\n",
    "   - Réseaux pré-entraînés (Transfer Learning)\n",
    "   - Couches de normalisation par batch\n",
    "   - Plus de blocs convolutionnels\n",
    "\n",
    "3. **Hyperparamètres** :\n",
    "   - Learning rate scheduling\n",
    "   - Early stopping\n",
    "   - Différents optimiseurs"
   ]
  }
 ],
 "metadata": {
  "kernelspec": {
   "display_name": "Python 3",
   "language": "python",
   "name": "python3"
  },
  "language_info": {
   "name": "python"
  }
 },
 "nbformat": 4,
 "nbformat_minor": 5
}