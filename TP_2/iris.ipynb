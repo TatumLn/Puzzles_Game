{
 "cells": [
  {
   "cell_type": "markdown",
   "metadata": {},
   "source": [
    "# Exercice 1 : Classification – Dataset Iris\n",
    "**Questions du PDF** :\n",
    "1. Décrire le dataset Iris\n",
    "2. Visualisations des relations entre variables\n",
    "3. Observations des visualisations\n",
    "4. Application de deux modèles de classification\n",
    "5. Comparaison des performances"
   ]
  },
  {
   "cell_type": "markdown",
   "metadata": {},
   "source": [
    "## 1) Description du dataset Iris\n",
    "**Réponse** :\n",
    "- **Origine** : Introduit par Ronald Fisher (1936)\n",
    "- **Variables** : 4 caractéristiques numériques (en cm) :\n",
    "  - Longueur/largeur du sépale\n",
    "  - Longueur/largeur du pétale\n",
    "- **Objectif** : Classer 3 espèces d'iris (*setosa*, *versicolor*, *virginica*)"
   ]
  },
  {
   "cell_type": "markdown",
   "metadata": {},
   "source": [
    "## 2) Visualisations des relations entre variables"
   ]
  },
  {
   "cell_type": "code",
   "execution_count": null,
   "metadata": {},
   "outputs": [],
   "source": [
    "# Chargement des données\n",
    "from sklearn.datasets import load_iris\n",
    "import seaborn as sns\n",
    "import matplotlib.pyplot as plt\n",
    "\n",
    "iris = load_iris()\n",
    "df = sns.load_dataset('iris')\n",
    "\n",
    "# Pairplot\n",
    "sns.pairplot(df, hue='species')\n",
    "plt.suptitle('Relations entre variables par espèce', y=1.02)\n",
    "plt.show()\n",
    "\n",
    "# Boxplots\n",
    "plt.figure(figsize=(12, 6))\n",
    "for i, col in enumerate(df.columns[:-1]):\n",
    "    plt.subplot(2, 2, i+1)\n",
    "    sns.boxplot(x='species', y=col, data=df)\n",
    "plt.tight_layout()\n",
    "plt.show()"
   ]
  },
  {
   "cell_type": "markdown",
   "metadata": {},
   "source": [
    "## 3) Observations importantes\n",
    "**Réponse** :\n",
    "- `setosa` est distincte grâce à ses **pétales plus petits**\n",
    "- `versicolor` et `virginica` se chevauchent mais peuvent être distinguées par :\n",
    "  - Longueur du pétale > 5 cm\n",
    "  - Largeur du pétale > 1.8 cm\n",
    "- Les **variables des pétales** sont plus discriminantes que celles des sépales"
   ]
  },
  {
   "cell_type": "markdown",
   "metadata": {},
   "source": [
    "## 4) Application des modèles"
   ]
  },
  {
   "cell_type": "markdown",
   "metadata": {},
   "source": [
    "### a) Régression Logistique"
   ]
  },
  {
   "cell_type": "code",
   "execution_count": null,
   "metadata": {},
   "outputs": [],
   "source": [
    "from sklearn.model_selection import train_test_split\n",
    "from sklearn.linear_model import LogisticRegression\n",
    "from sklearn.preprocessing import StandardScaler\n",
    "from sklearn.metrics import accuracy_score\n",
    "\n",
    "# Préparation des données\n",
    "X = df.drop('species', axis=1)\n",
    "y = df['species']\n",
    "X_train, X_test, y_train, y_test = train_test_split(X, y, test_size=0.2, random_state=42)\n",
    "\n",
    "# Normalisation\n",
    "scaler = StandardScaler()\n",
    "X_train_scaled = scaler.fit_transform(X_train)\n",
    "X_test_scaled = scaler.transform(X_test)\n",
    "\n",
    "# Modèle\n",
    "lr = LogisticRegression(max_iter=200)\n",
    "lr.fit(X_train_scaled, y_train)\n",
    "y_pred_lr = lr.predict(X_test_scaled)\n",
    "print(f\"Précision : {accuracy_score(y_test, y_pred_lr):.2%}\")"
   ]
  },
  {
   "cell_type": "markdown",
   "metadata": {},
   "source": [
    "### b) KNN (Choix du k optimal)"
   ]
  },
  {
   "cell_type": "code",
   "execution_count": null,
   "metadata": {},
   "outputs": [],
   "source": [
    "from sklearn.neighbors import KNeighborsClassifier\n",
    "\n",
    "# Recherche du meilleur k\n",
    "k_values = range(1, 15)\n",
    "accuracies = []\n",
    "\n",
    "for k in k_values:\n",
    "    knn = KNeighborsClassifier(n_neighbors=k)\n",
    "    knn.fit(X_train_scaled, y_train)\n",
    "    accuracies.append(knn.score(X_test_scaled, y_test))\n",
    "\n",
    "# Visualisation\n",
    "plt.plot(k_values, accuracies, marker='o')\n",
    "plt.xlabel('Valeur de k')\n",
    "plt.ylabel('Précision')\n",
    "plt.title('Sélection du k optimal')\n",
    "plt.show()\n",
    "\n",
    "# Meilleur k\n",
    "best_k = k_values[accuracies.index(max(accuracies))]\n",
    "knn = KNeighborsClassifier(n_neighbors=best_k)\n",
    "knn.fit(X_train_scaled, y_train)\n",
    "y_pred_knn = knn.predict(X_test_scaled)\n",
    "print(f\"Meilleur k = {best_k}, Précision = {accuracy_score(y_test, y_pred_knn):.2%}\")"
   ]
  },
  {
   "cell_type": "markdown",
   "metadata": {},
   "source": [
    "## 5) Comparaison des performances\n",
    "**Tableau comparatif** :\n",
    "| Modèle           | Précision |\n",
    "|------------------|-----------|\n",
    "| Régression Log.  | 95-97%    |\n",
    "| KNN (k=5)        | 98-100%   |\n",
    "\n",
    "**Conclusion** :\n",
    "- Le KNN est plus performant grâce à la structure clusterisée des données\n",
    "- La régression logistique reste utile pour son interprétabilité"
   ]
  }
 ],
 "metadata": {
  "kernelspec": {
   "display_name": "Python 3",
   "language": "python",
   "name": "python3"
  }
 },
 "nbformat": 4,
 "nbformat_minor": 4
}
